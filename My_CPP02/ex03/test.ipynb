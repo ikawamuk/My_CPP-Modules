{
 "cells": [
  {
   "cell_type": "code",
   "execution_count": 67,
   "id": "e53a670a",
   "metadata": {},
   "outputs": [],
   "source": [
    "import pandas as pd # type: ignore\n",
    "import matplotlib.pyplot as plt # type: ignore\n",
    "from matplotlib.ticker import MultipleLocator # type: ignore\n",
    "from matplotlib.ticker import MultipleLocator, NullFormatter # type: ignore"
   ]
  },
  {
   "cell_type": "code",
   "execution_count": null,
   "id": "29465dad",
   "metadata": {},
   "outputs": [],
   "source": [
    "path = \"test.csv\"\n",
    "data = pd.read_csv(path)"
   ]
  },
  {
   "cell_type": "code",
   "execution_count": null,
   "id": "703e1d03",
   "metadata": {},
   "outputs": [],
   "source": [
    "fig, ax = plt.subplots(figsize=(10, 8), dpi=150)\n",
    "ax.scatter(data[\"x\"], data[\"y\"], c=data[\"color\"], s=1)\n",
    "plt.title(f\"{path} points\")\n",
    "plt.xlabel(\"x\")\n",
    "plt.ylabel(\"y\")\n",
    "ax.xaxis.set_major_locator(MultipleLocator(0.5))\n",
    "ax.yaxis.set_major_locator(MultipleLocator(0.5))\n",
    "ax.xaxis.set_major_formatter(NullFormatter())\n",
    "ax.yaxis.set_major_formatter(NullFormatter())\n",
    "ax.grid(True, which='major', alpha=0.25, linewidth=0.4)\n",
    "plt.grid(True)\n",
    "plt.tight_layout()\n",
    "plt.show()"
   ]
  }
 ],
 "metadata": {
  "kernelspec": {
   "display_name": "myenv",
   "language": "python",
   "name": "python3"
  },
  "language_info": {
   "codemirror_mode": {
    "name": "ipython",
    "version": 3
   },
   "file_extension": ".py",
   "mimetype": "text/x-python",
   "name": "python",
   "nbconvert_exporter": "python",
   "pygments_lexer": "ipython3",
   "version": "3.10.12"
  }
 },
 "nbformat": 4,
 "nbformat_minor": 5
}
